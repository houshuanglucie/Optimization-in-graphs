{
 "cells": [
  {
   "cell_type": "code",
   "execution_count": 1,
   "metadata": {},
   "outputs": [],
   "source": [
    "import pandas as pd\n",
    "import numpy as np\n",
    "import itertools\n",
    "import sys"
   ]
  },
  {
   "cell_type": "code",
   "execution_count": 18,
   "metadata": {
    "scrolled": true
   },
   "outputs": [],
   "source": [
    "#Obtenir les coordonees\n",
    "def read_file(filename):\n",
    "    df = pd.read_csv(filename)\n",
    "    df.columns = ['A']\n",
    "    df = pd.DataFrame(df.A.str.split(' ',1).tolist(),columns = ['X','Y'])\n",
    "    df['X'] = df.X.astype(float)\n",
    "    df['Y'] = df.Y.astype(float)\n",
    "    return df\n",
    "\n",
    "df = read_file('data/tsp15.txt')"
   ]
  },
  {
   "cell_type": "code",
   "execution_count": 19,
   "metadata": {},
   "outputs": [],
   "source": [
    "#Nombre de neudes\n",
    "vnb = len(df)\n",
    "\n",
    "#Calculer les distances entre tous les points\n",
    "c = {}\n",
    "for i in range(vnb):\n",
    "    for j in range(vnb):\n",
    "        c[(i,j)] = np.sqrt((df.X[i]-df.X[j])**2+(df.Y[i]-df.Y[j])**2)"
   ]
  },
  {
   "cell_type": "code",
   "execution_count": 20,
   "metadata": {},
   "outputs": [],
   "source": [
    "##Initialiser le dic et supposer que le point 0 est le point depart\n",
    "L = {}\n",
    "for i in range(1,vnb):\n",
    "    L[(i,i)] = np.sqrt((df.X[i]-df.X[0])**2+(df.Y[i]-df.Y[0])**2)"
   ]
  },
  {
   "cell_type": "code",
   "execution_count": 21,
   "metadata": {},
   "outputs": [],
   "source": [
    "#Definir une fonction pour creer tous les sous-ensembles S\n",
    "def creat_set(size):\n",
    "    subsetlist = []\n",
    "    for i in itertools.permutations(range(1,vnb),size):\n",
    "        subsetlist.append(i)\n",
    "    return subsetlist"
   ]
  },
  {
   "cell_type": "code",
   "execution_count": 22,
   "metadata": {},
   "outputs": [],
   "source": [
    "#Definir une fonction pour supprimer la destination j d'une sous-ensmble S[i]\n",
    "def tuplerm(tuplex,item):\n",
    "    listx = list(tuplex)\n",
    "    listx.remove(item)\n",
    "    tuplex = tuple(listx)\n",
    "    return tuplex\n",
    "    "
   ]
  },
  {
   "cell_type": "code",
   "execution_count": null,
   "metadata": {
    "scrolled": true
   },
   "outputs": [],
   "source": [
    "#Paritie principale\n",
    "for m in range(2,vnb):\n",
    "    S = creat_set(m)\n",
    "    for i in range(len(S)):\n",
    "        for j in S[i]:\n",
    "            dist = np.inf\n",
    "            subset = S[i]\n",
    "            subset = tuplerm(subset,j)\n",
    "            if len(subset)==1:\n",
    "                subset = list(subset)[0]\n",
    "            for k in S[i]:\n",
    "                if k!= j:\n",
    "                    if dist >= L[subset,k]+c[k,j]:\n",
    "                        dist = L[subset,k]+c[k,j]\n",
    "            L[S[i],j] = dist"
   ]
  },
  {
   "cell_type": "code",
   "execution_count": 17,
   "metadata": {
    "scrolled": true
   },
   "outputs": [
    {
     "name": "stdout",
     "output_type": "stream",
     "text": [
      "12349.980743996226\n"
     ]
    }
   ],
   "source": [
    "#Trouver les TSP distance\n",
    "TSP = np.inf\n",
    "for j in range(1,vnb):\n",
    "    if TSP >= L[tuple(list(range(1,vnb))),j]+c[j,0]:\n",
    "        TSP = L[tuple(list(range(1,vnb))),j]+c[j,0]\n",
    "print(TSP)"
   ]
  },
  {
   "cell_type": "code",
   "execution_count": null,
   "metadata": {},
   "outputs": [],
   "source": []
  }
 ],
 "metadata": {
  "kernelspec": {
   "display_name": "Python 3",
   "language": "python",
   "name": "python3"
  },
  "language_info": {
   "codemirror_mode": {
    "name": "ipython",
    "version": 3
   },
   "file_extension": ".py",
   "mimetype": "text/x-python",
   "name": "python",
   "nbconvert_exporter": "python",
   "pygments_lexer": "ipython3",
   "version": "3.7.6"
  }
 },
 "nbformat": 4,
 "nbformat_minor": 2
}
